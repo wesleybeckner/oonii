{
  "nbformat": 4,
  "nbformat_minor": 0,
  "metadata": {
    "kernelspec": {
      "display_name": "Python 3",
      "language": "python",
      "name": "python3"
    },
    "language_info": {
      "codemirror_mode": {
        "name": "ipython",
        "version": 3
      },
      "file_extension": ".py",
      "mimetype": "text/x-python",
      "name": "python",
      "nbconvert_exporter": "python",
      "pygments_lexer": "ipython3",
      "version": "3.8.11"
    },
    "colab": {
      "name": "flask_tutorial.ipynb",
      "provenance": [],
      "include_colab_link": true
    }
  },
  "cells": [
    {
      "cell_type": "markdown",
      "metadata": {
        "id": "view-in-github",
        "colab_type": "text"
      },
      "source": [
        "<a href=\"https://colab.research.google.com/github/wesleybeckner/oonii/blob/main/lessons/flask/flask_tutorial.ipynb\" target=\"_parent\"><img src=\"https://colab.research.google.com/assets/colab-badge.svg\" alt=\"Open In Colab\"/></a>"
      ]
    },
    {
      "cell_type": "markdown",
      "metadata": {
        "id": "Sjlji6dH0Ldk"
      },
      "source": [
        "# OONII\n",
        "## Introduction to Data Based Applications: Flask\n",
        "\n",
        "**Instructor**: Wesley Beckner\n",
        "\n",
        "**Contact**: wesleybeckner@gmail.com\n",
        "\n",
        "<br>\n",
        "\n",
        "---\n",
        "\n",
        "<br>\n",
        "\n",
        "\n",
        "In this session we'll borrow heavily from [hackers and slackers](https://hackersandslackers.com/flask-application-factory/) as well as [tutorial point](https://www.tutorialspoint.com/flask/flask_quick_guide.htm)!\n",
        "\n",
        "<img src=\"https://raw.githubusercontent.com/wesleybeckner/oonii/main/assets/flask_factory.jpg\" width=700px></img>\n",
        "\n",
        "\n",
        "<br>\n",
        "\n",
        "---\n",
        "\n",
        "<br>\n"
      ]
    },
    {
      "cell_type": "markdown",
      "metadata": {
        "id": "PQfHxFxK0Ldo"
      },
      "source": [
        "# Setup\n",
        "\n",
        "Before we start...\n",
        "\n",
        "1. Download and install Anaconda\n",
        "2. Download and install VS Code\n",
        "3. Clone this repository"
      ]
    },
    {
      "cell_type": "markdown",
      "metadata": {
        "id": "SnoWkCak0Ldo"
      },
      "source": [
        "# Core Technologies\n",
        "\n",
        "## What is Web Framework?\n",
        "Web Application Framework or simply Web Framework represents a collection of libraries and modules that enables a web application developer to write applications without having to bother about low-level details such as protocols, thread management etc.\n",
        "\n",
        "## What is Flask?\n",
        "Flask is a web application framework written in Python. It is developed by Armin Ronacher, who leads an international group of Python enthusiasts named Pocco. Flask is based on the Werkzeug WSGI toolkit and Jinja2 template engine. Both are Pocco projects.\n",
        "\n",
        "## WSGI\n",
        "Web Server Gateway Interface (WSGI) has been adopted as a standard for Python web application development. WSGI is a specification for a universal interface between the web server and the web applications.\n",
        "\n",
        "## Werkzeug\n",
        "It is a WSGI toolkit, which implements requests, response objects, and other utility functions. This enables building a web framework on top of it. The Flask framework uses Werkzeug as one of its bases.\n",
        "\n",
        "## Jinja2\n",
        "Jinja2 is a popular templating engine for Python. A web templating system combines a template with a certain data source to render dynamic web pages.\n",
        "\n",
        "Flask is often referred to as a micro framework. It aims to keep the core of an application simple yet extensible. Flask does not have built-in abstraction layer for database handling, nor does it have form a validation support. Instead, Flask supports the extensions to add such functionality to the application. Some of the popular Flask extensions are discussed later in the tutorial."
      ]
    },
    {
      "cell_type": "markdown",
      "metadata": {
        "id": "FUeOnTEN0Ldp"
      },
      "source": [
        "# The Application Factory\n",
        "\n",
        "Eventually we will want to structure our application as follows:\n",
        "\n",
        "```\n",
        "/app\n",
        "├── /application\n",
        "│   ├── __init__.py\n",
        "│   ├── auth.py\n",
        "│   ├── forms.py\n",
        "│   ├── models.py\n",
        "│   ├── routes.py\n",
        "│   ├── /static\n",
        "│   └── /templates\n",
        "├── config.py\n",
        "└── wsgi.py\n",
        "```\n",
        "\n",
        "This is our directory structure for creating an [application factory](https://flask.palletsprojects.com/en/1.0.x/patterns/appfactories/) in Flask. \n",
        "But for now, we are going to take a much simpler approach at the expense of creating something well-structured.\n",
        "\n",
        "> Notice how there isn't even a file called `app.py`!\n"
      ]
    },
    {
      "cell_type": "markdown",
      "metadata": {
        "id": "HGt0Pd9M0Ldp"
      },
      "source": [
        "# Create app.py\n"
      ]
    },
    {
      "cell_type": "code",
      "metadata": {
        "id": "RinZY-l20Ldq",
        "outputId": "7a7e1f81-52b2-429e-ecd0-ae2b717a29bb"
      },
      "source": [
        "# btw, we can run flask right in our jupyter notebook:\n",
        "\n",
        "from flask import Flask\n",
        "app = Flask(__name__)\n",
        "\n",
        "@app.route('/')\n",
        "def hello_world():\n",
        "    return \"Hello World!\"\n",
        "\n",
        "if __name__ == '__main__':\n",
        "    app.run()"
      ],
      "execution_count": null,
      "outputs": [
        {
          "name": "stdout",
          "output_type": "stream",
          "text": [
            " * Serving Flask app '__main__' (lazy loading)\n",
            " * Environment: production\n",
            "\u001b[31m   WARNING: This is a development server. Do not use it in a production deployment.\u001b[0m\n",
            "\u001b[2m   Use a production WSGI server instead.\u001b[0m\n",
            " * Debug mode: off\n"
          ]
        },
        {
          "name": "stderr",
          "output_type": "stream",
          "text": [
            " * Running on http://127.0.0.1:5000/ (Press CTRL+C to quit)\n"
          ]
        }
      ]
    },
    {
      "cell_type": "markdown",
      "metadata": {
        "id": "OS0CbEcI0Ldr"
      },
      "source": [
        "## 🐍 Exercise 1\n",
        "\n",
        "Create a file called `app.py` and paste in the following:\n",
        "\n",
        "```\n",
        "from flask import Flask\n",
        "app = Flask(__name__)\n",
        "\n",
        "@app.route('/')\n",
        "def hello_world():\n",
        "   return \"Hello World!\"\n",
        "\n",
        "if __name__ == '__main__':\n",
        "   app.run()\n",
        " ```\n",
        " \n",
        "What are we doing here? Let's break it down piecewise. \n",
        "\n",
        "* `from flask import Flask`\n",
        "\n",
        "The Flask blueprint is going to contain the bones of our WSGI application. Let's see how we envoke the object:\n",
        "\n",
        "* `app = Flask(__name__)`\n",
        "\n",
        "Prototypical flask styling is to use `app` as the namespace for the Flask object. The class blueprint take the current module name, `__name__` as argument. \n",
        "\n",
        "* `@app.route('/')`\n",
        "\n",
        "The `@` operates as a decorator, meaning we are going to be altering something predefined in the Flask class. In this case, we are telling our application what to execute when the server is accessed at a specific url. In this case, the base,`/`, url\n",
        "\n",
        "* `def hello_world():`\n",
        "* `  return \"Hello World!\"`\n",
        "\n",
        "Our function for handling the route appears directly below `app.route('/')`, this will be the case for any route we wish to define (`@` decorator followed by function definition). In our simple, starting app, we pass the obligatory phrase, \"Hello World!\"\n",
        "\n",
        "* `if __name__ == '__main__':`\n",
        "\n",
        "Only run our application if it is not imported into the python interpreter by a previously running script\n",
        "\n",
        "* `app.run()`\n",
        "\n",
        "Finally, we run our application. A full description of the parameters we can pass to `app.run()`, all are optional:\n",
        "\n",
        "| Location | Parameter | Description                                                                                                    |\n",
        "|----------|-----------|----------------------------------------------------------------------------------------------------------------|\n",
        "| 1        | host      | Hostname to listen on. Defaults to 127.0.0.1 (localhost). Set to '0.0.0.0' to have server available externally |\n",
        "| 2        | port      | Defaults to 5000                                                                                               |\n",
        "| 3        | debug     | Defaults to False. If set to True, provides debug info and causes application to restart with code changes                                                         |\n",
        "| 4        | options   | To be forwarded to WSGI server                                                                        |"
      ]
    },
    {
      "cell_type": "markdown",
      "metadata": {
        "id": "msIESr9k0Lds"
      },
      "source": [
        "# Routing\n",
        "\n",
        "```\n",
        "@app.route('/')\n",
        "def hello_world():\n",
        "   return \"Hello World!\"\n",
        "```\n",
        "\n",
        "Routing handles what is generated to the web browser (or returned in an API request) when the user acceses a specific url. The `@` decorator is what is typically envoked but we can also use the function `add_url_rule`. \n",
        "\n"
      ]
    },
    {
      "cell_type": "code",
      "metadata": {
        "id": "sefQaBwK0Ldt",
        "outputId": "b8c70a3a-40a9-4e76-b0a8-ff2470909ce2"
      },
      "source": [
        "app.add_url_rule"
      ],
      "execution_count": null,
      "outputs": [
        {
          "data": {
            "text/plain": [
              "<bound method Flask.add_url_rule of <Flask '__main__'>>"
            ]
          },
          "execution_count": 18,
          "metadata": {},
          "output_type": "execute_result"
        }
      ]
    },
    {
      "cell_type": "markdown",
      "metadata": {
        "id": "b3N58Yyo0Ldu"
      },
      "source": [
        "## 🐍 Exercise 2:\n",
        "\n",
        "Let's try changing the `app.py` file to this instead:\n",
        "\n",
        "```\n",
        "def hello_world():\n",
        "   return \"hello world\"\n",
        "app.add_url_rule(\"/\", view_func=hello_world)\n",
        "```"
      ]
    },
    {
      "cell_type": "markdown",
      "metadata": {
        "id": "f_0wvXq-0Ldu"
      },
      "source": [
        "# Variable Rules\n",
        "\n",
        "Frequently, especially when we get into build flask-based APIs, we will want to include variable parameters in the url path. we can do this by designating `<variable-name>` in the url."
      ]
    },
    {
      "cell_type": "markdown",
      "metadata": {
        "id": "97VEElrD0Ldu"
      },
      "source": [
        "## 🐍 Exercise 3:\n",
        "\n",
        "extend your url path to include a new variable, i.e. `/<msg>` and return the message from the path to the screen. Ex:\n",
        "\n",
        "```\n",
        "def hello_world(msg):\n",
        "   return \"{}!\".format(msg)\n",
        "app.add_url_rule(\"/<msg>\", view_func=hello_world)\n",
        "```\n",
        "\n",
        "Note that when you type the url in the browser the carrot brackets should be omitted. \n",
        "\n",
        "We can also specify the datatype passed for the variable\n",
        "\n",
        "* integer: `<int:var-name>`\n",
        "* float: `<float:var-name>`"
      ]
    },
    {
      "cell_type": "code",
      "metadata": {
        "id": "RWbeNPa40Ldv"
      },
      "source": [
        "def hello_world(msg):\n",
        "    return \"{}!\".format(msg)\n",
        "app.add_url_rule(\"/<msg>\", view_func=hello_world)"
      ],
      "execution_count": null,
      "outputs": []
    },
    {
      "cell_type": "markdown",
      "metadata": {
        "id": "wareOOmq0Ldv"
      },
      "source": [
        "## 🐍 Exercise 4:\n",
        "\n",
        "experiment with datatype enforcement by making a new url path called `/type/<string:var>` and passing to it in 3 different cases: int, string, and float, and return the type to the browser, i.e:\n",
        "\n",
        "`return \"the type is: {}\".format(type(var).__name__)`\n",
        "\n",
        "what happens when you try to pass an _int_ to _float_ or a _float_ to _int_?\n",
        "\n",
        "Ex:\n",
        "\n",
        "```\n",
        "@app.route('/type/<int:var>')\n",
        "def check_type(var):\n",
        "   print(type(var))\n",
        "   return \"the type is: {}\".format(type(var).__name__)\n",
        "```"
      ]
    },
    {
      "cell_type": "code",
      "metadata": {
        "id": "L2AcrNdg0Ldv",
        "outputId": "1685ffad-97c8-44ed-854c-94a483a15747"
      },
      "source": [
        "@app.route('/type/<int:var>')\n",
        "def check_type(var):\n",
        "    print(type(var))\n",
        "    return \"the type is: {}\".format(type(var).__name__)"
      ],
      "execution_count": null,
      "outputs": [
        {
          "data": {
            "text/plain": [
              "\"<class 'float'>\""
            ]
          },
          "execution_count": 4,
          "metadata": {},
          "output_type": "execute_result"
        }
      ]
    },
    {
      "cell_type": "markdown",
      "metadata": {
        "id": "30jteUBu0Ldv"
      },
      "source": [
        "# Dynamic URL Building\n",
        "\n",
        "url redirects can be initiated depending on input variables. For example, imagine you have a `/user/<name>` url that redirects to `/guest/<name>` or `/admin/` depending on if the `<name>` variable is set to `admin` or not. You would invoke this like so:\n",
        "\n",
        "```\n",
        "@app.route('/user/<name>')\n",
        "def hello_user(name):\n",
        "   if name == 'admin':\n",
        "      return redirect(url_for('hello_admin'))\n",
        "   else:\n",
        "      return redirect(url_for('hello_guest', name=name))\n",
        "\n",
        "@app.route('/admin/')\n",
        "def hello_admin():\n",
        "   return \"Hello Admin!\"\n",
        "\n",
        "@app.route('/guest/<name>')\n",
        "def hello_guest(name):\n",
        "   return \"Hello {}!\".format(name)\n",
        "```"
      ]
    },
    {
      "cell_type": "markdown",
      "metadata": {
        "id": "PbdC6ujM0Ldw"
      },
      "source": [
        "## 🐍 Exercise 5:\n",
        "\n",
        "paste the above code into `app.py` and test out the functionality by visiting `/user/<yourname>` and `user/admin`. Notice how the url is redirected in the web address bar!"
      ]
    },
    {
      "cell_type": "markdown",
      "metadata": {
        "id": "wGZ_Rgpm0Ldw"
      },
      "source": [
        "# HTTP Methods\n",
        "\n",
        "So far, we have been defaulting to the http method, GET. But there are other http methods we can envoke:\n",
        "\n",
        "| Method | Description                                                                                 |\n",
        "|--------|---------------------------------------------------------------------------------------------|\n",
        "| GET    | Sends data in unencrypted form to the server                                                |\n",
        "| HEAD   | Same as GET but without response body                                                       |\n",
        "| POST   | Used to send HTML form data to server. Data received by POST method is not cached by server |\n",
        "| PUT    | Replaces all current representations of the target resource with the uploaded content       |\n",
        "| DELETE | Removes all current representations of the target resource given by a URL                   |"
      ]
    },
    {
      "cell_type": "markdown",
      "metadata": {
        "id": "-P0yXAbH0Ldw"
      },
      "source": [
        "## 📝 🐍 Exercise 6:\n",
        "\n",
        "Under `/templates/` create a new file called `/index.html`/ and paste in the following:\n",
        "\n",
        "```\n",
        "<html>\n",
        "   <body>\n",
        "      <form action = \"http://localhost:5000/login\" method = \"post\">\n",
        "         <p>Enter Name:</p>\n",
        "         <p><input type = \"text\" name = \"nm\" /></p>\n",
        "         <p><input type = \"submit\" value = \"submit\" /></p>\n",
        "      </form>\n",
        "   </body>\n",
        "</html>\n",
        "```\n",
        "\n",
        "Import `request` from `flask` at the top of `app.py`.\n",
        "\n",
        "Now paste the following into your `app.py` file:\n",
        "\n",
        "```\n",
        "@app.route('/success/<name>')\n",
        "def success(name):\n",
        "   return 'welcome %s' % name\n",
        "\n",
        "@app.route('/login',methods = ['POST', 'GET'])\n",
        "def login():\n",
        "   if request.method == 'POST':\n",
        "      user = request.form['nm']\n",
        "      return redirect(url_for('success',name = user))\n",
        "   else:\n",
        "      user = request.args.get('nm')\n",
        "      return redirect(url_for('success',name = user))\n",
        "      \n",
        "```\n",
        "\n",
        "the two lines we'll inspect are `user = request.form['nm']` and `user = request.args.get('nm')`. In `index.html` the method is set to `post`. In this case, when we open `index.html` in the web browser and fill the input object who's name is `nm` and click submit, it sends a post request to localhost:5000/login. The variable `user` in the flask application is then set according to `request.form['nm']`. Go ahead and try this out yourself.\n",
        "\n",
        "After verifying that this works, change method to `\"get\"` in `index.html`. Now the user variable will be set with `request.args.get('nm')` in the flask application."
      ]
    },
    {
      "cell_type": "markdown",
      "metadata": {
        "id": "DMr6rVHR0Ldw"
      },
      "source": [
        "# Templates \n",
        "## (jinja2 and where html lives)\n",
        "\n",
        "We can insert html styling directly in our python code, but that gets clunky real fast. Instead, we typically leverage the [jinja templating engine](https://jinja.palletsprojects.com/en/3.0.x/) to render html files according to routes specified in the flask application. Let's take an example"
      ]
    },
    {
      "cell_type": "markdown",
      "metadata": {
        "id": "DSKEL2Q20Ldx"
      },
      "source": [
        "## 🐍 Exercise 7:\n",
        "\n",
        "import `render_template` from `flask` at the top of `app.py`. Then add an url rule at `/form/` that returns `render_template(\"login.html\")`\n",
        "\n",
        "Ex:\n",
        "\n",
        "```\n",
        "@app.route('/form/')\n",
        "def index():\n",
        "   return render_template(\"login.html\")\n",
        "```\n",
        "\n",
        "When you visit `localhost:5000/form/` you should see the page rendered by `index.html` that we opened previously! In this way, you can build a python website that still utilizes and html/css/js you would like in a traditional static build.\n",
        "\n",
        "> Note: Flask will always try to find your html files called via render_template in your templates/ folder sitting in the same directory as your python script"
      ]
    },
    {
      "cell_type": "markdown",
      "metadata": {
        "id": "4853GG2A0Ldx"
      },
      "source": [
        "# Static Files\n",
        "## (where CSS and JS live)\n",
        "\n",
        "For this next piece, we're going to include 3 new files in our application and show how traditional html/css/js websites can be rendered in the Flask framework."
      ]
    },
    {
      "cell_type": "markdown",
      "metadata": {
        "id": "z6TfwO8Z0Ldx"
      },
      "source": [
        "## 📝 🐍  Exercise 8:\n",
        "\n",
        "Copy the following into the respect files and locations.\n",
        "\n",
        "In `templates/static.html`:\n",
        "\n",
        "```\n",
        "<head>\n",
        "    <link rel=\"stylesheet\" href=\"../static/static.css\">\n",
        "</head>\n",
        "\n",
        "<body>\n",
        "    <div class=\"flex-container\">\n",
        "        <div id=\"thumbnails\">\n",
        "            <h1>🐍</h1>\n",
        "            <h1>🍫</h1>\n",
        "            <h1>⛱️</h1>\n",
        "        </div>\n",
        "    </div>\n",
        "    <script src=\"../static/static.js\"></script>\n",
        "</body>\n",
        "```\n",
        "\n",
        "In `static/static.css`:\n",
        "\n",
        "```\n",
        ".flex-container {\n",
        "    text-align:center;\n",
        "  }\n",
        "```\n",
        "\n",
        "In `static/static.js`:\n",
        "\n",
        "```\n",
        "var thumbnails = document.getElementById(\"thumbnails\")\n",
        "var emoji = thumbnails.innerHTML.split(\"\\n\")\n",
        "console.log(emoji)\n",
        "\n",
        "emoji.sort(() => Math.random() - 0.5);\n",
        "\n",
        "var str = \"\"\n",
        "for (let i=0; i<emoji.length;i++){\n",
        "  str += emoji[i] + \"\\n\"\n",
        "}\n",
        "console.log(str)\n",
        "document.getElementById(\"thumbnails\").innerHTML = str\n",
        "```\n",
        "\n",
        "In our JS file we are randomly swapping the innerHTML settings of the different emojis (effectively randomizing the order of the emojis on the webpage) open `static.html` in the web browser and inspect to see the effect our of JS code, you can also look at the console to view the output of the randomization process. \n",
        "\n",
        "Now, using the same methodology as we did in exercise 7, add the route to `app.py` so that users will see `static.html` when they visit the url extension `emoji`.\n",
        "\n"
      ]
    },
    {
      "cell_type": "markdown",
      "metadata": {
        "id": "__Iwrc8j0Ldy"
      },
      "source": [
        "# Additional Topics\n",
        "\n",
        "* Request Object\n",
        "* Example: Sending Form Data to Template\n",
        "* Cookies\n",
        "* Session Data\n",
        "* Redirect and Errors\n",
        "* Message Flashing\n",
        "* File Uploading\n",
        "* Extensions\n",
        "    * Mail\n",
        "    * WTF\n",
        "    * SQLAlchemy\n",
        "    * Sijax\n",
        "* Standalone WSGI Containers"
      ]
    }
  ]
}