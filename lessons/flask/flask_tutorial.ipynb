{
 "cells": [
  {
   "cell_type": "markdown",
   "metadata": {},
   "source": [
    "# OONII TUTORIAL 001\n",
    "## Introduction to Data Based Applications: Flask\n",
    "\n",
    "**Instructor**: Wesley Beckner\n",
    "\n",
    "**Contact**: wesleybeckner@gmail.com\n",
    "\n",
    "<br>\n",
    "\n",
    "---\n",
    "\n",
    "<br>\n",
    "\n",
    "\n",
    "In this session we'll borrow heavily from [hackers and slackers](https://hackersandslackers.com/flask-application-factory/)!\n",
    "\n",
    "<img src=\"https://raw.githubusercontent.com/wesleybeckner/oonii/main/assets/flask_factory.jpg\" width=700px></img>\n",
    "\n",
    "\n",
    "<br>\n",
    "\n",
    "---\n",
    "\n",
    "<br>\n"
   ]
  },
  {
   "cell_type": "markdown",
   "metadata": {},
   "source": [
    "# Setup\n",
    "\n",
    "Before we start...\n",
    "\n",
    "1. Download and install Anaconda\n",
    "2. Download and install VS Code\n",
    "3. Clone this repository"
   ]
  },
  {
   "cell_type": "markdown",
   "metadata": {},
   "source": [
    "# Core Technologies\n",
    "[original post](https://www.tutorialspoint.com/flask/flask_quick_guide.htm)\n",
    "\n",
    "## What is Web Framework?\n",
    "Web Application Framework or simply Web Framework represents a collection of libraries and modules that enables a web application developer to write applications without having to bother about low-level details such as protocols, thread management etc.\n",
    "\n",
    "## What is Flask?\n",
    "Flask is a web application framework written in Python. It is developed by Armin Ronacher, who leads an international group of Python enthusiasts named Pocco. Flask is based on the Werkzeug WSGI toolkit and Jinja2 template engine. Both are Pocco projects.\n",
    "\n",
    "## WSGI\n",
    "Web Server Gateway Interface (WSGI) has been adopted as a standard for Python web application development. WSGI is a specification for a universal interface between the web server and the web applications.\n",
    "\n",
    "## Werkzeug\n",
    "It is a WSGI toolkit, which implements requests, response objects, and other utility functions. This enables building a web framework on top of it. The Flask framework uses Werkzeug as one of its bases.\n",
    "\n",
    "## Jinja2\n",
    "Jinja2 is a popular templating engine for Python. A web templating system combines a template with a certain data source to render dynamic web pages.\n",
    "\n",
    "Flask is often referred to as a micro framework. It aims to keep the core of an application simple yet extensible. Flask does not have built-in abstraction layer for database handling, nor does it have form a validation support. Instead, Flask supports the extensions to add such functionality to the application. Some of the popular Flask extensions are discussed later in the tutorial."
   ]
  },
  {
   "cell_type": "markdown",
   "metadata": {},
   "source": [
    "# The Application Factory\n",
    "\n",
    "Eventually we will want to structure our application as follows:\n",
    "\n",
    "```\n",
    "/app\n",
    "├── /application\n",
    "│   ├── __init__.py\n",
    "│   ├── auth.py\n",
    "│   ├── forms.py\n",
    "│   ├── models.py\n",
    "│   ├── routes.py\n",
    "│   ├── /static\n",
    "│   └── /templates\n",
    "├── config.py\n",
    "└── wsgi.py\n",
    "```\n",
    "\n",
    "This is our directory structure for creating an [application factory](https://flask.palletsprojects.com/en/1.0.x/patterns/appfactories/) in Flask. \n",
    "But for now, we are going to take a much simpler approach at the expense of creating something well-structured.\n",
    "\n",
    "> Notice how there isn't even a file called `app.py`!\n"
   ]
  },
  {
   "cell_type": "markdown",
   "metadata": {},
   "source": [
    "# Create app.py\n",
    "\n",
    "Create a file called `app.py` and paste in the following:\n",
    "\n",
    "```\n",
    "from flask import Flask\n",
    "app = Flask(__name__)\n",
    "\n",
    "@app.route('/')\n",
    "def hello_world():\n",
    "   return \"Hello World!\"\n",
    "\n",
    "if __name__ == '__main__':\n",
    "   app.run()\n",
    " ```\n",
    " \n",
    "What are we doing here? Let's break it down piecewise. \n",
    "\n",
    "* `from flask import Flask`\n",
    "\n",
    "The Flask blueprint is going to contain the bones of our WSGI application. Let's see how we envoke the object:\n",
    "\n",
    "* `app = Flask(__name__)`\n",
    "\n",
    "Prototypical flask styling is to use `app` as the namespace for the Flask object. The class blueprint take the current module name, `__name__` as argument. \n",
    "\n",
    "* `@app.route('/')`\n",
    "\n",
    "The `@` operates as a decorator, meaning we are going to be altering something predefined in the Flask class. In this case, we are telling our application what to execute when the server is accessed at a specific url. In this case, the base,`/`, url\n",
    "\n",
    "* `def hello_world():`\n",
    "* `  return \"Hello World!\"`\n",
    "\n",
    "Our function for handling the route appears directly below `app.route('/')`, this will be the case for any route we wish to define (`@` decorator followed by function definition). In our simple, starting app, we pass the obligatory phrase, \"Hello World!\"\n",
    "\n",
    "* `if __name__ == '__main__':`\n",
    "\n",
    "Only run our application if it is not imported into the python interpreter by a previously running script\n",
    "\n",
    "* `app.run()`\n",
    "\n",
    "Finally, we run our application. A full description of the parameters we can pass to `app.run()`, all are optional:\n",
    "\n",
    "| Location | Parameter | Description                                                                                                    |\n",
    "|----------|-----------|----------------------------------------------------------------------------------------------------------------|\n",
    "| 1        | host      | Hostname to listen on. Defaults to 127.0.0.1 (localhost). Set to '0.0.0.0' to have server available externally |\n",
    "| 2        | port      | Defaults to 5000                                                                                               |\n",
    "| 3        | debug     | Defaults to False. If set to True, provides debug info and causes application to restart with code changes                                                         |\n",
    "| 4        | options   | To be forwarded to WSGI server                                                                                 |\n",
    "\n",
    "\n",
    "\n"
   ]
  },
  {
   "cell_type": "markdown",
   "metadata": {},
   "source": [
    "# Routing\n",
    "\n",
    "Wed"
   ]
  },
  {
   "cell_type": "markdown",
   "metadata": {},
   "source": [
    "# Variable Rules\n",
    "\n",
    "Wed"
   ]
  },
  {
   "cell_type": "markdown",
   "metadata": {},
   "source": [
    "# Dynamic URL Building\n",
    "\n",
    "Th"
   ]
  },
  {
   "cell_type": "markdown",
   "metadata": {},
   "source": [
    "# HTTP Methods\n",
    "\n",
    "Th"
   ]
  },
  {
   "cell_type": "markdown",
   "metadata": {},
   "source": [
    "# Templates \n",
    "## (jinja2 and where html lives)\n",
    "\n",
    "Fr"
   ]
  },
  {
   "cell_type": "markdown",
   "metadata": {},
   "source": [
    "# Static Files\n",
    "## (where CSS and JS lives)\n",
    "\n",
    "Fr"
   ]
  },
  {
   "cell_type": "markdown",
   "metadata": {},
   "source": [
    "# Request Object\n",
    "\n",
    "Mn"
   ]
  },
  {
   "cell_type": "markdown",
   "metadata": {},
   "source": [
    "# Additional Topics\n",
    "\n",
    "* Example: Sending Form Data to Template\n",
    "* Cookies\n",
    "* Session Data\n",
    "* Redirect and Errors\n",
    "* Message Flashing\n",
    "* File Uploading\n",
    "* Extensions\n",
    "    * Mail\n",
    "    * WTF\n",
    "    * SQLAlchemy\n",
    "    * Sijax\n",
    "* Standalone WSGI Containers"
   ]
  }
 ],
 "metadata": {
  "kernelspec": {
   "display_name": "Python 3",
   "language": "python",
   "name": "python3"
  },
  "language_info": {
   "codemirror_mode": {
    "name": "ipython",
    "version": 3
   },
   "file_extension": ".py",
   "mimetype": "text/x-python",
   "name": "python",
   "nbconvert_exporter": "python",
   "pygments_lexer": "ipython3",
   "version": "3.8.11"
  }
 },
 "nbformat": 4,
 "nbformat_minor": 4
}
